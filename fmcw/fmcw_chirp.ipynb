{
 "cells": [
  {
   "cell_type": "code",
   "execution_count": null,
   "metadata": {},
   "outputs": [
    {
     "ename": "",
     "evalue": "",
     "output_type": "error",
     "traceback": [
      "\u001b[1;31mRunning cells with '.venv (Python 3.9.6)' requires the ipykernel package.\n",
      "\u001b[1;31mRun the following command to install 'ipykernel' into the Python environment. \n",
      "\u001b[1;31mCommand: '/Users/humdaan/repos/low_cost_arm_mimic/.venv/bin/python -m pip install ipykernel -U --force-reinstall'"
     ]
    }
   ],
   "source": [
    "import numpy as np\n",
    "import matplotlib.pyplot as plt\n",
    "from scipy.signal import hilbert\n",
    "\n",
    "# Simulation parameters\n",
    "fs = 10e6         # 10 MHz sampling rate\n",
    "T = 1e-3          # 1 ms sweep time\n",
    "B = 1e6           # 1 MHz bandwidth (baseband chirp from 0 to 1 MHz)\n",
    "N = int(T * fs)\n",
    "t = np.linspace(0, T, N, endpoint=False)\n",
    "\n",
    "# Generate baseband FMCW chirp \n",
    "phase = (B / (2 * T)) * t**2\n",
    "chirp = np.cos(2 * np.pi * phase)\n",
    "\n",
    "long_signal = np.tile(chirp, 5)\n",
    "long_t = np.linspace(0, T*5, N*5, endpoint=False)\n",
    "\n",
    "# Plot time-domain chirp\n",
    "plt.plot(long_t[:5000], long_signal[:5000])\n",
    "plt.title(\"Baseband FMCW Chirp (First 1000 samples)\")\n",
    "plt.xlabel(\"Time (s)\")\n",
    "plt.ylabel(\"Amplitude\")\n",
    "plt.grid(True)\n",
    "plt.show()\n",
    "\n",
    "# Get instantaneous frequency using Hilbert transform\n",
    "analytic = hilbert(long_signal)\n",
    "inst_phase = np.unwrap(np.angle(analytic))\n",
    "inst_freq = np.diff(inst_phase) * fs / (2 * np.pi)\n",
    "\n",
    "# Plot instantaneous frequency\n",
    "plt.plot(long_t[1:], inst_freq)\n",
    "plt.title(\"Instantaneous Frequency of Baseband Chirp\")\n",
    "plt.xlabel(\"Time (s)\")\n",
    "plt.ylabel(\"Frequency (Hz)\")\n",
    "plt.grid(True)\n",
    "plt.show()"
   ]
  },
  {
   "cell_type": "code",
   "execution_count": null,
   "metadata": {},
   "outputs": [],
   "source": []
  }
 ],
 "metadata": {
  "kernelspec": {
   "display_name": ".venv",
   "language": "python",
   "name": "python3"
  },
  "language_info": {
   "codemirror_mode": {
    "name": "ipython",
    "version": 3
   },
   "file_extension": ".py",
   "mimetype": "text/x-python",
   "name": "python",
   "nbconvert_exporter": "python",
   "pygments_lexer": "ipython3",
   "version": "3.9.6"
  }
 },
 "nbformat": 4,
 "nbformat_minor": 2
}
