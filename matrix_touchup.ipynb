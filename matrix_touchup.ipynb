{
 "cells": [
  {
   "cell_type": "markdown",
   "metadata": {},
   "source": [
    "### Quick Refresher on Matrix Math, Rotations and Transformations \n",
    " "
   ]
  },
  {
   "cell_type": "code",
   "execution_count": 49,
   "metadata": {},
   "outputs": [],
   "source": [
    "import numpy as np \n",
    "import numpy.typing as npt\n",
    "from scipy.spatial.transform import Rotation as R\n"
   ]
  },
  {
   "cell_type": "markdown",
   "metadata": {},
   "source": [
    "If **A** is an \\( m by n \\) matrix and **B** is an \\( n by p \\) matrix,\n",
    "\n",
    "$$\n",
    "\\mathbf{A} = \\begin{pmatrix}\n",
    "a_{11} & a_{12} & \\cdots & a_{1n} \\\\\n",
    "a_{21} & a_{22} & \\cdots & a_{2n} \\\\\n",
    "\\vdots & \\vdots & \\ddots & \\vdots \\\\\n",
    "a_{m1} & a_{m2} & \\cdots & a_{mn}\n",
    "\\end{pmatrix}, \\quad\n",
    "\\mathbf{B} = \\begin{pmatrix}\n",
    "b_{11} & b_{12} & \\cdots & b_{1p} \\\\\n",
    "b_{21} & b_{22} & \\cdots & b_{2p} \\\\\n",
    "\\vdots & \\vdots & \\ddots & \\vdots \\\\\n",
    "b_{n1} & b_{n2} & \\cdots & b_{np}\n",
    "\\end{pmatrix}\n",
    "$$\n",
    "\n",
    "the **matrix product** \\( C =AB \\)  is defined to be the \\( m by p \\) matrix\n",
    "\n",
    "$$\n",
    "\\mathbf{C} = \\begin{pmatrix}\n",
    "c_{11} & c_{12} & \\cdots & c_{1p} \\\\\n",
    "c_{21} & c_{22} & \\cdots & c_{2p} \\\\\n",
    "\\vdots & \\vdots & \\ddots & \\vdots \\\\\n",
    "c_{m1} & c_{m2} & \\cdots & c_{mp}\n",
    "\\end{pmatrix}\n",
    "\\quad \\text{such that} \\quad\n",
    "c_{ij} = a_{i1}b_{1j} + a_{i2}b_{2j} + \\cdots + a_{in}b_{nj}\n",
    "= \\sum_{k=1}^{n} a_{ik} b_{kj}\n",
    "$$\n",
    "\n",
    "for \\( i = 1, \\dots, m \\) and \\( j = 1, \\dots, p \\).\n",
    "\n",
    "\n",
    "\n"
   ]
  },
  {
   "cell_type": "markdown",
   "metadata": {},
   "source": [
    "Therefore, **AB** can also be written as\n",
    "\n",
    "$$\n",
    "\\mathbf{C} =\n",
    "\\begin{pmatrix}\n",
    "a_{11}b_{11} + \\cdots + a_{1n}b_{n1} & a_{11}b_{12} + \\cdots + a_{1n}b_{n2} & \\cdots & a_{11}b_{1p} + \\cdots + a_{1n}b_{np} \\\\\n",
    "a_{21}b_{11} + \\cdots + a_{2n}b_{n1} & a_{21}b_{12} + \\cdots + a_{2n}b_{n2} & \\cdots & a_{21}b_{1p} + \\cdots + a_{2n}b_{np} \\\\\n",
    "\\vdots & \\vdots & \\ddots & \\vdots \\\\\n",
    "a_{m1}b_{11} + \\cdots + a_{mn}b_{n1} & a_{m1}b_{12} + \\cdots + a_{mn}b_{n2} & \\cdots & a_{m1}b_{1p} + \\cdots + a_{mn}b_{np}\n",
    "\\end{pmatrix}\n",
    "$$\n",
    "\n",
    "Thus the product AB is defined if and only if the number of columns in A equals the number of rows in B,in this case n."
   ]
  },
  {
   "cell_type": "code",
   "execution_count": 47,
   "metadata": {},
   "outputs": [],
   "source": [
    "# Matrix Multiplication\n",
    "def dot_1d(arr1:npt.NDArray, arr2:npt.NDArray): \n",
    "    assert arr1.shape == arr2.shape\n",
    "    assert arr1.ndim == 1 or len(arr1.shape) == 1\n",
    "    s = 0\n",
    "    for i in range(len(arr1)): \n",
    "        s += arr1[i]* arr2[i]\n",
    "    return s\n",
    "\n",
    "def matmul(matrix_a:npt.NDArray, matrix_b:npt.NDArray):\n",
    "    assert matrix_a.ndim == 2 and matrix_b.ndim == 2\n",
    "    mat_a_rows, mat_a_cols = matrix_a.shape\n",
    "    mat_b_rows, mat_b_cols = matrix_b.shape\n",
    "    assert mat_a_cols == mat_b_rows\n",
    "    mat_c = np.zeros(shape=(mat_a_rows, mat_b_cols ))\n",
    "    for i in range(mat_a_rows): \n",
    "        for j in range(mat_b_cols): \n",
    "            mat_c[i,j] = dot_1d(matrix_a[i], matrix_b[:,j])\n",
    "    return mat_c\n",
    "\n",
    "mat_a = np.array([[1,2],[3,4],[3,4]])\n",
    "mat_b = np.array([[5,6],[7,8]])\n",
    "assert np.array_equal(mat_a @ mat_b , matmul(mat_a,mat_b))"
   ]
  },
  {
   "cell_type": "markdown",
   "metadata": {},
   "source": [
    "###  Euler to Rotation Matrix \n",
    "Let's say we start out with an Euler matrix of (roll,pitch,yaw), aka rpy. \n",
    "This defines a rotation in angular space, but isn't the most friendly to apply in real systems. We can convert this to a rotation matrix that can directly be applied as a mat mul onto a cartesian coordinate system. \n",
    "\n",
    "euler angles aren't ideal due to ambiguity in rotation order, and gimbal lock \n",
    "\n",
    "Given Euler angles **(roll, pitch, yaw)** corresponding to rotations around the **X**, **Y**, and **Z** axes respectively:\n",
    "\n",
    "Let:\n",
    "\n",
    "- \\( \\phi \\): Roll (rotation about X-axis)\n",
    "- \\( \\theta \\): Pitch (rotation about Y-axis)\n",
    "- \\( \\psi \\): Yaw (rotation about Z-axis)\n",
    "\n",
    "\n",
    "**X-axis (Roll):**\n",
    "\n",
    "R_x =\n",
    "\\begin{bmatrix}\n",
    "1 & 0 & 0 \\\\\n",
    "0 & \\cos\\phi & -\\sin\\phi \\\\\n",
    "0 & \\sin\\phi & \\cos\\phi\n",
    "\\end{bmatrix}\n",
    "\n",
    "\n",
    "**Y-axis (Pitch):**\n",
    "\n",
    "R_y =\n",
    "\\begin{bmatrix}\n",
    "\\cos\\theta & 0 & \\sin\\theta \\\\\n",
    "0 & 1 & 0 \\\\\n",
    "-\\sin\\theta & 0 & \\cos\\theta\n",
    "\\end{bmatrix}\n",
    "\n",
    "\n",
    "**Z-axis (Yaw):**\n",
    "\n",
    "R_z =\n",
    "\\begin{bmatrix}\n",
    "\\cos\\psi & -\\sin\\psi & 0 \\\\\n",
    "\\sin\\psi & \\cos\\psi & 0 \\\\\n",
    "0 & 0 & 1\n",
    "\\end{bmatrix}\n",
    "\n",
    "---\n",
    "\n",
    "### Combined Rotation Matrix (XYZ Order)\n",
    "\n",
    "R = R_z * R_y * R_x\n",
    "\n",
    "\\[\n",
    "R = R_z(\\psi) \\cdot R_y(\\theta) \\cdot R_x(\\phi) =\n",
    "\\begin{bmatrix}\n",
    "\\cos\\psi\\cos\\theta & \\cos\\psi\\sin\\theta\\sin\\phi - \\sin\\psi\\cos\\phi & \\cos\\psi\\sin\\theta\\cos\\phi + \\sin\\psi\\sin\\phi \\\\\n",
    "\\sin\\psi\\cos\\theta & \\sin\\psi\\sin\\theta\\sin\\phi + \\cos\\psi\\cos\\phi & \\sin\\psi\\sin\\theta\\cos\\phi - \\cos\\psi\\sin\\phi \\\\\n",
    "-\\sin\\theta        & \\cos\\theta\\sin\\phi                            & \\cos\\theta\\cos\\phi\n",
    "\\end{bmatrix}\n",
    "\\]\n"
   ]
  },
  {
   "cell_type": "code",
   "execution_count": 59,
   "metadata": {},
   "outputs": [
    {
     "name": "stdout",
     "output_type": "stream",
     "text": [
      "[[ 0.81379768 -0.44096961  0.37852231]\n",
      " [ 0.46984631  0.88256412  0.01802831]\n",
      " [-0.34202014  0.16317591  0.92541658]]\n",
      "[[ 0.81379768 -0.44096961  0.37852231]\n",
      " [ 0.46984631  0.88256412  0.01802831]\n",
      " [-0.34202014  0.16317591  0.92541658]]\n",
      "[[ 0.81379768 -0.44096961  0.37852231]\n",
      " [ 0.46984631  0.88256412  0.01802831]\n",
      " [-0.34202014  0.16317591  0.92541658]]\n"
     ]
    }
   ],
   "source": [
    "euler_angle = (10,20,30)\n",
    "def r_x(roll:float): \n",
    "    roll = np.deg2rad(roll)\n",
    "    return np.array([[1, 0, 0],\n",
    "            [0, np.cos(roll), -np.sin(roll)],\n",
    "            [0, np.sin(roll), np.cos(roll)]])\n",
    "def r_y(pitch:float): \n",
    "    pitch = np.deg2rad(pitch)\n",
    "    return np.array([[np.cos(pitch), 0, np.sin(pitch)],\n",
    "            [0, 1, 0],\n",
    "            [-np.sin(pitch),0 ,  np.cos(pitch)]])\n",
    "def r_z(yaw:float): \n",
    "    yaw = np.deg2rad(yaw)\n",
    "    return np.array([[np.cos(yaw), -np.sin(yaw), 0], \n",
    "            [np.sin(yaw), np.cos(yaw), 0], \n",
    "            [0,0,1]])\n",
    "\n",
    "r = R.from_euler('xyz', euler_angle, degrees=True)\n",
    "rotation_matrix = r.as_matrix()\n",
    "r_m = r_z(euler_angle[2]) @ r_y(euler_angle[1]) @ r_x(euler_angle[0])\n",
    "r_mm = matmul(r_z(euler_angle[2]), matmul(r_y(euler_angle[1]), r_x(euler_angle[0])))\n",
    "print(rotation_matrix)\n",
    "print(r_m)\n",
    "print(r_mm)\n"
   ]
  },
  {
   "cell_type": "code",
   "execution_count": 60,
   "metadata": {},
   "outputs": [
    {
     "data": {
      "text/plain": [
       "array([0.72742987, 1.81368636, 3.19082866])"
      ]
     },
     "execution_count": 60,
     "metadata": {},
     "output_type": "execute_result"
    }
   ],
   "source": [
    "np.array([1,2,3]) @ rotation_matrix"
   ]
  },
  {
   "cell_type": "markdown",
   "metadata": {},
   "source": []
  }
 ],
 "metadata": {
  "kernelspec": {
   "display_name": "Python 3",
   "language": "python",
   "name": "python3"
  },
  "language_info": {
   "codemirror_mode": {
    "name": "ipython",
    "version": 3
   },
   "file_extension": ".py",
   "mimetype": "text/x-python",
   "name": "python",
   "nbconvert_exporter": "python",
   "pygments_lexer": "ipython3",
   "version": "3.9.6"
  }
 },
 "nbformat": 4,
 "nbformat_minor": 2
}
