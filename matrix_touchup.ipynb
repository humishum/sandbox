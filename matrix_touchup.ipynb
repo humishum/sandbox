{
 "cells": [
  {
   "cell_type": "markdown",
   "metadata": {},
   "source": [
    "### Quick Refresher on Matrix Math, Rotations and Transformations \n",
    " "
   ]
  },
  {
   "cell_type": "code",
   "execution_count": 2,
   "metadata": {},
   "outputs": [],
   "source": [
    "import numpy as np \n",
    "import numpy.typing as npt"
   ]
  },
  {
   "cell_type": "markdown",
   "metadata": {},
   "source": [
    "If **A** is an \\( m by n \\) matrix and **B** is an \\( n by p \\) matrix,\n",
    "\n",
    "$$\n",
    "\\mathbf{A} = \\begin{pmatrix}\n",
    "a_{11} & a_{12} & \\cdots & a_{1n} \\\\\n",
    "a_{21} & a_{22} & \\cdots & a_{2n} \\\\\n",
    "\\vdots & \\vdots & \\ddots & \\vdots \\\\\n",
    "a_{m1} & a_{m2} & \\cdots & a_{mn}\n",
    "\\end{pmatrix}, \\quad\n",
    "\\mathbf{B} = \\begin{pmatrix}\n",
    "b_{11} & b_{12} & \\cdots & b_{1p} \\\\\n",
    "b_{21} & b_{22} & \\cdots & b_{2p} \\\\\n",
    "\\vdots & \\vdots & \\ddots & \\vdots \\\\\n",
    "b_{n1} & b_{n2} & \\cdots & b_{np}\n",
    "\\end{pmatrix}\n",
    "$$\n",
    "\n",
    "the **matrix product** \\( C =AB \\)  is defined to be the \\( m by p \\) matrix\n",
    "\n",
    "$$\n",
    "\\mathbf{C} = \\begin{pmatrix}\n",
    "c_{11} & c_{12} & \\cdots & c_{1p} \\\\\n",
    "c_{21} & c_{22} & \\cdots & c_{2p} \\\\\n",
    "\\vdots & \\vdots & \\ddots & \\vdots \\\\\n",
    "c_{m1} & c_{m2} & \\cdots & c_{mp}\n",
    "\\end{pmatrix}\n",
    "\\quad \\text{such that} \\quad\n",
    "c_{ij} = a_{i1}b_{1j} + a_{i2}b_{2j} + \\cdots + a_{in}b_{nj}\n",
    "= \\sum_{k=1}^{n} a_{ik} b_{kj}\n",
    "$$\n",
    "\n",
    "for \\( i = 1, \\dots, m \\) and \\( j = 1, \\dots, p \\).\n",
    "\n",
    "\n",
    "\n"
   ]
  },
  {
   "cell_type": "markdown",
   "metadata": {},
   "source": [
    "Therefore, **AB** can also be written as\n",
    "\n",
    "$$\n",
    "\\mathbf{C} =\n",
    "\\begin{pmatrix}\n",
    "a_{11}b_{11} + \\cdots + a_{1n}b_{n1} & a_{11}b_{12} + \\cdots + a_{1n}b_{n2} & \\cdots & a_{11}b_{1p} + \\cdots + a_{1n}b_{np} \\\\\n",
    "a_{21}b_{11} + \\cdots + a_{2n}b_{n1} & a_{21}b_{12} + \\cdots + a_{2n}b_{n2} & \\cdots & a_{21}b_{1p} + \\cdots + a_{2n}b_{np} \\\\\n",
    "\\vdots & \\vdots & \\ddots & \\vdots \\\\\n",
    "a_{m1}b_{11} + \\cdots + a_{mn}b_{n1} & a_{m1}b_{12} + \\cdots + a_{mn}b_{n2} & \\cdots & a_{m1}b_{1p} + \\cdots + a_{mn}b_{np}\n",
    "\\end{pmatrix}\n",
    "$$\n",
    "\n",
    "Thus the product AB is defined if and only if the number of columns in A equals the number of rows in B,in this case n."
   ]
  },
  {
   "cell_type": "code",
   "execution_count": 47,
   "metadata": {},
   "outputs": [],
   "source": [
    "# Matrix Multiplication\n",
    "def dot_1d(arr1:npt.NDArray, arr2:npt.NDArray): \n",
    "    assert arr1.shape == arr2.shape\n",
    "    assert arr1.ndim == 1 or len(arr1.shape) == 1\n",
    "    s = 0\n",
    "    for i in range(len(arr1)): \n",
    "        s += arr1[i]* arr2[i]\n",
    "    return s\n",
    "\n",
    "def matmul(matrix_a:npt.NDArray, matrix_b:npt.NDArray):\n",
    "    assert matrix_a.ndim == 2 and matrix_b.ndim == 2\n",
    "    mat_a_rows, mat_a_cols = matrix_a.shape\n",
    "    mat_b_rows, mat_b_cols = matrix_b.shape\n",
    "    assert mat_a_cols == mat_b_rows\n",
    "    mat_c = np.zeros(shape=(mat_a_rows, mat_b_cols ))\n",
    "    for i in range(mat_a_rows): \n",
    "        for j in range(mat_b_cols): \n",
    "            mat_c[i,j] = dot_1d(matrix_a[i], matrix_b[:,j])\n",
    "    return mat_c\n",
    "\n",
    "mat_a = np.array([[1,2],[3,4],[3,4]])\n",
    "mat_b = np.array([[5,6],[7,8]])\n",
    "assert np.array_equal(mat_a @ mat_b , matmul(mat_a,mat_b))"
   ]
  },
  {
   "cell_type": "code",
   "execution_count": 46,
   "metadata": {},
   "outputs": [],
   "source": [
    "\n"
   ]
  }
 ],
 "metadata": {
  "kernelspec": {
   "display_name": "Python 3",
   "language": "python",
   "name": "python3"
  },
  "language_info": {
   "codemirror_mode": {
    "name": "ipython",
    "version": 3
   },
   "file_extension": ".py",
   "mimetype": "text/x-python",
   "name": "python",
   "nbconvert_exporter": "python",
   "pygments_lexer": "ipython3",
   "version": "3.9.6"
  }
 },
 "nbformat": 4,
 "nbformat_minor": 2
}
