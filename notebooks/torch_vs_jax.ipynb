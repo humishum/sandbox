{
 "cells": [
  {
   "cell_type": "code",
   "execution_count": 2,
   "id": "fea8dc2f-3fdf-4aad-aaa6-846c8b60b3e5",
   "metadata": {},
   "outputs": [],
   "source": [
    "import torch\n",
    "import numpy as np \n",
    "import matplotlib.pyplot as plt \n",
    "import jax "
   ]
  },
  {
   "cell_type": "markdown",
   "id": "96d07cbc-66f4-45ae-8366-efa688e961bb",
   "metadata": {},
   "source": [
    "### Check Metal Backend for Torch and Jax \n",
    "- Jax Check needs review (https://developer.apple.com/metal/jax/) "
   ]
  },
  {
   "cell_type": "code",
   "execution_count": 4,
   "id": "06580efe-8d82-4972-9cf3-ad1224d82f53",
   "metadata": {},
   "outputs": [
    {
     "name": "stdout",
     "output_type": "stream",
     "text": [
      "tensor([1.], device='mps:0')\n"
     ]
    }
   ],
   "source": [
    "import torch\n",
    "if torch.backends.mps.is_available():\n",
    "    mps_device = torch.device(\"mps\")\n",
    "    x = torch.ones(1, device=mps_device)\n",
    "    print (x)\n",
    "else:\n",
    "    print (\"MPS device not found.\")"
   ]
  },
  {
   "cell_type": "code",
   "execution_count": 5,
   "id": "b52dee83-ff49-483a-a16b-12f426f25bd0",
   "metadata": {},
   "outputs": [],
   "source": [
    "# define basic function \n",
    "def parabolic(x, a=0, b=0, c=0): \n",
    "    return a*(x**2) + b*x + c"
   ]
  },
  {
   "cell_type": "code",
   "execution_count": null,
   "id": "fd8bc854-8b2d-43a6-a0d2-c012f8446df1",
   "metadata": {},
   "outputs": [],
   "source": [
    "t"
   ]
  }
 ],
 "metadata": {
  "kernelspec": {
   "display_name": "Python 3 (ipykernel)",
   "language": "python",
   "name": "python3"
  },
  "language_info": {
   "codemirror_mode": {
    "name": "ipython",
    "version": 3
   },
   "file_extension": ".py",
   "mimetype": "text/x-python",
   "name": "python",
   "nbconvert_exporter": "python",
   "pygments_lexer": "ipython3",
   "version": "3.9.6"
  }
 },
 "nbformat": 4,
 "nbformat_minor": 5
}
